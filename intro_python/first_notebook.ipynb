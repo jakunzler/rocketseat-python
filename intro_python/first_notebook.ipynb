{
 "cells": [
  {
   "cell_type": "markdown",
   "metadata": {},
   "source": [
    "# Introdução à Programação em Python\n",
    "\n",
    "Este notebook apresenta as principais características da linguagem Python: \n",
    "variáveis, operadores, controle de fluxo, e muito mais.\n",
    "\n",
    "## 1. Variáveis e Atribuição\n",
    "\n",
    "- No Python, não precisamos declarar o tipo da variável. Ele é inferido automaticamente."
   ]
  },
  {
   "cell_type": "code",
   "execution_count": 63,
   "metadata": {},
   "outputs": [
    {
     "name": "stdout",
     "output_type": "stream",
     "text": [
      "Valor de x: 10\n",
      "Valor de y: 3.14\n",
      "Nome: Jonas\n",
      "Status: True\n"
     ]
    }
   ],
   "source": [
    "# Exemplo de variáveis e atribuição\n",
    "x = 10  # Inteiro\n",
    "y = 3.14  # Float\n",
    "nome = \"Jonas\"  # String\n",
    "status = True  # Booleano\n",
    "\n",
    "print(\"Valor de x:\", x)\n",
    "print(\"Valor de y:\", y)\n",
    "print(\"Nome:\", nome)\n",
    "print(\"Status:\", status)"
   ]
  },
  {
   "cell_type": "markdown",
   "metadata": {},
   "source": [
    "## 2. Operadores Aritméticos\n",
    "\n",
    "- Python suporta operadores aritméticos básicos como adição, subtração, multiplicação e divisão."
   ]
  },
  {
   "cell_type": "code",
   "execution_count": 64,
   "metadata": {},
   "outputs": [
    {
     "name": "stdout",
     "output_type": "stream",
     "text": [
      "Valor original: 5\n",
      "Negação unária: -5\n",
      "Positivo unário: 5\n",
      "Soma: 21.3\n",
      "Subtração: 11.3\n",
      "Multiplicação: 81.5\n",
      "Potenciação: 1150636.1704300002\n",
      "Divisão: 3.2600000000000002\n",
      "Divisão inteira: 3.0\n",
      "Resto da divisão: 1\n"
     ]
    }
   ],
   "source": [
    "# Operador unário de negação\n",
    "numero_inteiro = 5\n",
    "print(\"Valor original:\", numero_inteiro)\n",
    "print(\"Negação unária:\", -numero_inteiro)  # -5\n",
    "\n",
    "# Operador unário positivo (não altera o valor)\n",
    "print(\"Positivo unário:\", +numero_inteiro)  # 5\n",
    "\n",
    "# Operações básicas\n",
    "numero_float = 16.3\n",
    "numero_inteiro = 5\n",
    "\n",
    "soma = numero_float + numero_inteiro\n",
    "subtracao = numero_float - numero_inteiro\n",
    "multiplicacao = numero_float * numero_inteiro\n",
    "potenciacao = numero_float ** numero_inteiro\n",
    "divisao = numero_float / numero_inteiro\n",
    "divisao_inteira = numero_float // numero_inteiro\n",
    "resto_divisao = int(numero_float) % numero_inteiro\n",
    "\n",
    "print(\"Soma:\", soma)\n",
    "print(\"Subtração:\", subtracao)\n",
    "print(\"Multiplicação:\", multiplicacao)\n",
    "print(\"Potenciação:\", potenciacao)\n",
    "print(\"Divisão:\", divisao)\n",
    "print(\"Divisão inteira:\", divisao_inteira)\n",
    "print(\"Resto da divisão:\", resto_divisao)"
   ]
  },
  {
   "cell_type": "markdown",
   "metadata": {},
   "source": [
    "## 3. Operadores Lógicos e Comparação\n",
    "\n",
    "- Podemos realizar comparações e combinar condições com operadores lógicos."
   ]
  },
  {
   "cell_type": "code",
   "execution_count": 65,
   "metadata": {},
   "outputs": [
    {
     "name": "stdout",
     "output_type": "stream",
     "text": [
      "a é igual a b? False\n",
      "a é diferente de b? True\n",
      "a é maior que b? False\n",
      "a é menor ou igual a b? True\n",
      "condicao1 AND condicao2: False\n",
      "condicao1 OR condicao2: True\n",
      "NOT condicao1: False\n"
     ]
    }
   ],
   "source": [
    "# Comparações\n",
    "a = 10\n",
    "b = 20\n",
    "\n",
    "print(\"a é igual a b?\", a == b)\n",
    "print(\"a é diferente de b?\", a != b)\n",
    "print(\"a é maior que b?\", a > b)\n",
    "print(\"a é menor ou igual a b?\", a <= b)\n",
    "\n",
    "# Operadores lógicos\n",
    "condicao1 = True\n",
    "condicao2 = False\n",
    "\n",
    "print(\"condicao1 AND condicao2:\", condicao1 and condicao2)\n",
    "print(\"condicao1 OR condicao2:\", condicao1 or condicao2)\n",
    "print(\"NOT condicao1:\", not condicao1)"
   ]
  },
  {
   "cell_type": "markdown",
   "metadata": {},
   "source": [
    "## 4. Controle de Fluxo "
   ]
  },
  {
   "cell_type": "markdown",
   "metadata": {},
   "source": [
    "### 4.1 if, elif, else\n",
    "\n",
    "- Estruturas de controle de fluxo permitem que você tome decisões no seu código."
   ]
  },
  {
   "cell_type": "code",
   "execution_count": 66,
   "metadata": {},
   "outputs": [
    {
     "name": "stdout",
     "output_type": "stream",
     "text": [
      "Adultamente fresco!?\n",
      "Resultado: Maior de idade\n"
     ]
    }
   ],
   "source": [
    "# Controle de fluxo\n",
    "idade = 18\n",
    "\n",
    "if idade < 18:\n",
    "    print(\"Pirralho!\")\n",
    "elif idade == 18:\n",
    "    print(\"Adultamente fresco!?\")\n",
    "else:\n",
    "    print(\"Tá pondo o pé na cova.\")\n",
    "    \n",
    "# Operador ternário (ou condicional em uma linha): Permite a atribuição condicional em uma única linha.\n",
    "idade = 18\n",
    "resultado = \"Maior de idade\" if idade >= 18 else \"Menor de idade\"\n",
    "print(\"Resultado:\", resultado)"
   ]
  },
  {
   "cell_type": "markdown",
   "metadata": {},
   "source": [
    "### 4.2 match/case\n",
    "\n",
    "- O controle de fluxo match/case foi introduzido no Python 3.10 e permite o uso de \"pattern matching\", semelhante a um switch/case em outras linguagens. Ele é útil para comparar um valor com diferentes padrões e executar um bloco de código correspondente ao primeiro padrão correspondente."
   ]
  },
  {
   "cell_type": "code",
   "execution_count": 67,
   "metadata": {},
   "outputs": [
    {
     "name": "stdout",
     "output_type": "stream",
     "text": [
      "O dia correspondente é: Terça-feira\n",
      "O dia correspondente é: Fim de semana\n"
     ]
    }
   ],
   "source": [
    "# Exemplo básico de match/case\n",
    "\n",
    "def verificar_dia_semana(dia):\n",
    "    match dia:\n",
    "        case 2:\n",
    "            return \"Segunda-feira\"\n",
    "        case 3:\n",
    "            return \"Terça-feira\"\n",
    "        case 4:\n",
    "            return \"Quarta-feira\"\n",
    "        case 5:\n",
    "            return \"Quinta-feira\"\n",
    "        case 6:\n",
    "            return \"Sexta-feira\"\n",
    "        case 7 | 1:  # Usando '|' para combinar dois casos\n",
    "            return \"Fim de semana\"\n",
    "        case _:\n",
    "            return \"Dia inválido\"  # O \"_\" age como o \"default\"\n",
    "\n",
    "# Testando o match/case\n",
    "dia = 3\n",
    "resultado = verificar_dia_semana(dia)\n",
    "print(\"O dia correspondente é:\", resultado)\n",
    "\n",
    "# Testando outro valor\n",
    "dia = 7\n",
    "resultado = verificar_dia_semana(dia)\n",
    "print(\"O dia correspondente é:\", resultado)"
   ]
  },
  {
   "cell_type": "markdown",
   "metadata": {},
   "source": [
    "## 5. Loops (For e While)\n",
    "\n",
    "- Loops são usados para repetir uma ação várias vezes."
   ]
  },
  {
   "cell_type": "code",
   "execution_count": 68,
   "metadata": {},
   "outputs": [
    {
     "name": "stdout",
     "output_type": "stream",
     "text": [
      "Iteração: 0\n",
      "Iteração: 1\n",
      "Iteração: 2\n",
      "Iteração: 3\n",
      "Iteração: 4\n",
      "Contador: 0\n",
      "Contador: 1\n",
      "Contador: 2\n"
     ]
    }
   ],
   "source": [
    "# Exemplo de loop for\n",
    "for i in range(5):\n",
    "    print(\"Iteração:\", i)\n",
    "\n",
    "# Exemplo de loop while\n",
    "contador = 0\n",
    "while contador < 3:\n",
    "    print(\"Contador:\", contador)\n",
    "    contador += 1"
   ]
  },
  {
   "cell_type": "markdown",
   "metadata": {},
   "source": [
    "### 5.1 break, continue e pass\n",
    "\n",
    "- Estes são usados dentro de loops (for ou while) para modificar o fluxo de controle."
   ]
  },
  {
   "cell_type": "code",
   "execution_count": 69,
   "metadata": {},
   "outputs": [
    {
     "name": "stdout",
     "output_type": "stream",
     "text": [
      "1\n",
      "2\n",
      "1\n",
      "2\n",
      "4\n",
      "5\n",
      "1\n",
      "2\n",
      "3\n",
      "4\n",
      "5\n"
     ]
    }
   ],
   "source": [
    "# break (Interrompe imediatamente a execução do loop)\n",
    "for i in range(1, 6):\n",
    "    if i == 3:\n",
    "        break  # Interrompe o loop quando i for 3\n",
    "    print(i)\n",
    "\n",
    "# continue (Pula o restante do loop e vai para a próxima iteração)\n",
    "for i in range(1, 6):\n",
    "    if i == 3:\n",
    "        continue  # Pula a iteração quando i for 3\n",
    "    print(i)\n",
    "\n",
    "# pass (Serve como um placeholder que não faz nada, útil em blocos de código que ainda não foram implementados)\n",
    "for i in range(1, 6):\n",
    "    if i == 3:\n",
    "        pass  # Não faz nada, apenas continua o loop\n",
    "    print(i)"
   ]
  },
  {
   "cell_type": "markdown",
   "metadata": {},
   "source": [
    "### 5.2 else com Loops\n",
    "\n",
    "- Python permite o uso do else com loops (for ou while). O bloco else será executado apenas se o loop não for interrompido por um break."
   ]
  },
  {
   "cell_type": "code",
   "execution_count": 70,
   "metadata": {},
   "outputs": [
    {
     "name": "stdout",
     "output_type": "stream",
     "text": [
      "1\n",
      "2\n",
      "1\n",
      "2\n",
      "3\n",
      "4\n",
      "5\n",
      "Loop completo!\n"
     ]
    }
   ],
   "source": [
    "# Exemplo de else com loop\n",
    "for i in range(1, 6):\n",
    "    if i == 3:\n",
    "        break  # Interrompe o loop quando i for 3\n",
    "    print(i)\n",
    "else:\n",
    "    print(\"Loop completo!\")  # Não será executado, pois o loop foi interrompido\n",
    "\n",
    "# Agora sem break\n",
    "for i in range(1, 6):\n",
    "    print(i)\n",
    "else:\n",
    "    print(\"Loop completo!\")  # Será executado, pois o loop terminou normalmente"
   ]
  },
  {
   "cell_type": "markdown",
   "metadata": {},
   "source": [
    "### 5.3 with (Gerenciamento de Contexto)\n",
    "\n",
    "- O with é usado para gerenciar recursos (como arquivos) de maneira eficiente, garantindo que sejam liberados após o uso, mesmo se ocorrer uma exceção."
   ]
  },
  {
   "cell_type": "code",
   "execution_count": 71,
   "metadata": {},
   "outputs": [],
   "source": [
    "# Exemplo de with para manipulação de arquivos\n",
    "with open(\"exemplo.txt\", \"w\") as arquivo:\n",
    "    arquivo.write(\"Exemplo de uso do with\")\n",
    "\n",
    "# O arquivo é fechado automaticamente ao sair do bloco with"
   ]
  },
  {
   "cell_type": "markdown",
   "metadata": {},
   "source": [
    "### 5.4 Recursão\n",
    "\n",
    "- Embora não seja um controle de fluxo específico, a recursão é uma técnica que permite que uma função chame a si mesma, servindo como um tipo de fluxo de controle."
   ]
  },
  {
   "cell_type": "code",
   "execution_count": 72,
   "metadata": {},
   "outputs": [
    {
     "name": "stdout",
     "output_type": "stream",
     "text": [
      "120\n"
     ]
    }
   ],
   "source": [
    "# Exemplo de recursão: fatorial\n",
    "def fatorial(n):\n",
    "    if n == 1:\n",
    "        return 1\n",
    "    else:\n",
    "        return n * fatorial(n - 1)\n",
    "\n",
    "# Chamando a função fatorial\n",
    "print(fatorial(5))  # Saída: 120"
   ]
  },
  {
   "cell_type": "markdown",
   "metadata": {},
   "source": [
    "## 6. Funções\n",
    "\n",
    "- Funções nos permitem encapsular código para reutilização."
   ]
  },
  {
   "cell_type": "code",
   "execution_count": 73,
   "metadata": {},
   "outputs": [
    {
     "name": "stdout",
     "output_type": "stream",
     "text": [
      "Olá, Jonas!\n"
     ]
    }
   ],
   "source": [
    "# Definindo uma função\n",
    "def saudacao(nome):\n",
    "    print(f\"Olá, {nome}!\")\n",
    "\n",
    "# Chamando a função\n",
    "saudacao(\"Jonas\")"
   ]
  },
  {
   "cell_type": "markdown",
   "metadata": {},
   "source": [
    "## 7. Listas e Dicionários\n",
    "\n",
    "- Coleções são tipos de dados essenciais no Python. \n",
    "- Listas são usadas para armazenar múltiplos itens, e dicionários armazenam pares chave-valor."
   ]
  },
  {
   "cell_type": "code",
   "execution_count": 74,
   "metadata": {},
   "outputs": [
    {
     "name": "stdout",
     "output_type": "stream",
     "text": [
      "Frutas: ['Maçã', 'Banana', 'Laranja']\n",
      "Primeira fruta: Maçã\n",
      "Informações do aluno: {'nome': 'Jonas', 'idade': 25, 'curso': 'Engenharia'}\n",
      "Nome do aluno: Jonas\n"
     ]
    }
   ],
   "source": [
    "# Listas\n",
    "frutas = [\"Maçã\", \"Banana\", \"Laranja\"]\n",
    "print(\"Frutas:\", frutas)\n",
    "\n",
    "# Acessando elementos\n",
    "print(\"Primeira fruta:\", frutas[0])\n",
    "\n",
    "# Dicionários\n",
    "aluno = {\"nome\": \"Jonas\", \"idade\": 25, \"curso\": \"Engenharia\"}\n",
    "print(\"Informações do aluno:\", aluno)\n",
    "print(\"Nome do aluno:\", aluno[\"nome\"])"
   ]
  },
  {
   "cell_type": "markdown",
   "metadata": {},
   "source": [
    "## 8. Operadores Avançados\n",
    "\n",
    "### 8.1 Operadores Bitwise (ou operadores de bits)\n",
    "- Esses operadores são usados para manipular bits em números inteiros."
   ]
  },
  {
   "cell_type": "code",
   "execution_count": 75,
   "metadata": {},
   "outputs": [
    {
     "name": "stdout",
     "output_type": "stream",
     "text": [
      "Resultado AND bit a bit: 0b1000\n",
      "Resultado OR bit a bit: 0b1110\n",
      "Resultado XOR bit a bit: 0b110\n",
      "Deslocamento à esquerda: 0b110000\n",
      "Deslocamento à direita: 0b11\n"
     ]
    }
   ],
   "source": [
    "# AND bit a bit (&)\n",
    "a = 0b1100  # 12 em binário\n",
    "b = 0b1010  # 10 em binário\n",
    "resultado_and = a & b  # AND bit a bit\n",
    "print(\"Resultado AND bit a bit:\", bin(resultado_and))  # Saída: 0b1000 (8 em decimal)\n",
    "\n",
    "# OR bit a bit (|)\n",
    "resultado_or = a | b  # OR bit a bit\n",
    "print(\"Resultado OR bit a bit:\", bin(resultado_or))  # Saída: 0b1110 (14 em decimal)\n",
    "\n",
    "# XOR bit a bit (^)\n",
    "resultado_xor = a ^ b  # XOR bit a bit\n",
    "print(\"Resultado XOR bit a bit:\", bin(resultado_xor))  # Saída: 0b0110 (6 em decimal)\n",
    "\n",
    "# Deslocamento à esquerda (<<) e à direita (>>)\n",
    "deslocamento_esquerda = a << 2  # Desloca os bits 2 posições à esquerda\n",
    "deslocamento_direita = a >> 2  # Desloca os bits 2 posições à direita\n",
    "print(\"Deslocamento à esquerda:\", bin(deslocamento_esquerda))  # Saída: 0b110000 (48 em decimal)\n",
    "print(\"Deslocamento à direita:\", bin(deslocamento_direita))  # Saída: 0b11 (3 em decimal)"
   ]
  },
  {
   "cell_type": "markdown",
   "metadata": {},
   "source": [
    "### 8.2 Operadores de Atribuição Composta\n",
    "\n",
    "- São atalhos para operações aritméticas e lógicas combinadas com atribuição."
   ]
  },
  {
   "cell_type": "code",
   "execution_count": 76,
   "metadata": {},
   "outputs": [
    {
     "name": "stdout",
     "output_type": "stream",
     "text": [
      "x após x += 5: 15\n",
      "x após x *= 2: 30\n",
      "x após x //= 3: 10\n",
      "x após x **= 2: 100\n"
     ]
    }
   ],
   "source": [
    "x = 10\n",
    "x += 5  # Equivalente a x = x + 5\n",
    "print(\"x após x += 5:\", x)\n",
    "\n",
    "x *= 2  # Equivalente a x = x * 2\n",
    "print(\"x após x *= 2:\", x)\n",
    "\n",
    "x //= 3  # Equivalente a x = x // 3 (divisão inteira)\n",
    "print(\"x após x //= 3:\", x)\n",
    "\n",
    "x **= 2  # Equivalente a x = x ** 2 (potência)\n",
    "print(\"x após x **= 2:\", x)"
   ]
  },
  {
   "cell_type": "markdown",
   "metadata": {},
   "source": [
    "### 8.3 Operadores de Identidade\n",
    "\n",
    "- Usados para verificar se dois objetos são o mesmo (comparam as referências de objetos, não apenas valores)."
   ]
  },
  {
   "cell_type": "code",
   "execution_count": 77,
   "metadata": {},
   "outputs": [
    {
     "name": "stdout",
     "output_type": "stream",
     "text": [
      "a é b? True\n",
      "a é c? False\n",
      "a não é c? True\n"
     ]
    }
   ],
   "source": [
    "a = [1, 2, 3]\n",
    "b = a  # b aponta para o mesmo objeto que a\n",
    "c = [1, 2, 3]  # c é um novo objeto, mesmo que tenha o mesmo valor\n",
    "\n",
    "print(\"a é b?\", a is b)  # True, ambos referenciam o mesmo objeto\n",
    "print(\"a é c?\", a is c)  # False, c é um objeto diferente\n",
    "print(\"a não é c?\", a is not c)  # True"
   ]
  },
  {
   "cell_type": "markdown",
   "metadata": {},
   "source": [
    "### 8.4 Operadores de Associação\n",
    "\n",
    "- Usados para verificar se um valor existe em uma sequência (como listas, strings, etc.)."
   ]
  },
  {
   "cell_type": "code",
   "execution_count": 78,
   "metadata": {},
   "outputs": [
    {
     "name": "stdout",
     "output_type": "stream",
     "text": [
      "Banana está na lista de frutas? True\n",
      "Uva está na lista de frutas? False\n",
      "Jonas está no texto? True\n"
     ]
    }
   ],
   "source": [
    "frutas = [\"Maçã\", \"Banana\", \"Laranja\"]\n",
    "print(\"Banana está na lista de frutas?\", \"Banana\" in frutas)  # True\n",
    "print(\"Uva está na lista de frutas?\", \"Uva\" in frutas)  # False\n",
    "\n",
    "# Verificação em strings\n",
    "texto = \"Olá, Jonas!\"\n",
    "print(\"Jonas está no texto?\", \"Jonas\" in texto)  # True"
   ]
  },
  {
   "cell_type": "markdown",
   "metadata": {},
   "source": [
    "## 9 Tratamento de Exceções try/except\n",
    "\n",
    "- Esse controle de fluxo lida com exceções (erros) que podem ocorrer durante a execução do código."
   ]
  },
  {
   "cell_type": "code",
   "execution_count": 79,
   "metadata": {},
   "outputs": [
    {
     "name": "stdout",
     "output_type": "stream",
     "text": [
      "Execução finalizada (finally).\n",
      "Erro: Divisão por zero não é permitida.\n",
      "Execução finalizada (finally).\n",
      "Erro: Operandos devem ser números.\n",
      "Execução finalizada (finally).\n",
      "O resultado da divisão é: 5.0\n"
     ]
    }
   ],
   "source": [
    "# Exemplo de try/except\n",
    "def dividir(a, b):\n",
    "    try:\n",
    "        resultado = a / b\n",
    "    except ZeroDivisionError:\n",
    "        return \"Erro: Divisão por zero não é permitida.\"\n",
    "    except TypeError:\n",
    "        return \"Erro: Operandos devem ser números.\"\n",
    "    else:\n",
    "        return f\"O resultado da divisão é: {resultado}\"\n",
    "    finally:\n",
    "        print(\"Execução finalizada (finally).\")\n",
    "\n",
    "# Testando com divisão por zero\n",
    "print(dividir(10, 0))\n",
    "\n",
    "# Testando com tipos incorretos\n",
    "print(dividir(10, \"2\"))\n",
    "\n",
    "# Testando uma divisão válida\n",
    "print(dividir(10, 2))"
   ]
  }
 ],
 "metadata": {
  "kernelspec": {
   "display_name": "Python 3",
   "language": "python",
   "name": "python3"
  },
  "language_info": {
   "codemirror_mode": {
    "name": "ipython",
    "version": 3
   },
   "file_extension": ".py",
   "mimetype": "text/x-python",
   "name": "python",
   "nbconvert_exporter": "python",
   "pygments_lexer": "ipython3",
   "version": "3.12.3"
  }
 },
 "nbformat": 4,
 "nbformat_minor": 2
}
